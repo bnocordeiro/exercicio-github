{
  "nbformat": 4,
  "nbformat_minor": 0,
  "metadata": {
    "colab": {
      "provenance": []
    },
    "kernelspec": {
      "name": "python3",
      "display_name": "Python 3"
    },
    "language_info": {
      "name": "python"
    }
  },
  "cells": [
    {
      "cell_type": "markdown",
      "source": [
        "# **Módulo Python Avançado - Exercício**"
      ],
      "metadata": {
        "id": "dXGPhwQlrmUa"
      }
    },
    {
      "cell_type": "markdown",
      "source": [
        "> Implementando um `web-scraping`usando Python, para analisar os dados de uma página de filmes da web."
      ],
      "metadata": {
        "id": "YZ5lK_lxsHMk"
      }
    },
    {
      "cell_type": "code",
      "source": [
        "!pip install bs4"
      ],
      "metadata": {
        "colab": {
          "base_uri": "https://localhost:8080/"
        },
        "id": "xaqJB1Ii_LiW",
        "outputId": "efe22559-366f-4857-d88e-482e4d39631c"
      },
      "execution_count": 1,
      "outputs": [
        {
          "output_type": "stream",
          "name": "stdout",
          "text": [
            "Looking in indexes: https://pypi.org/simple, https://us-python.pkg.dev/colab-wheels/public/simple/\n",
            "Requirement already satisfied: bs4 in /usr/local/lib/python3.7/dist-packages (0.0.1)\n",
            "Requirement already satisfied: beautifulsoup4 in /usr/local/lib/python3.7/dist-packages (from bs4) (4.6.3)\n"
          ]
        }
      ]
    },
    {
      "cell_type": "code",
      "source": [
        "import requests\n",
        "import time\n",
        "import csv\n",
        "import random\n",
        "import concurrent.futures\n",
        "\n",
        "\n",
        "from bs4 import BeautifulSoup\n",
        "\n",
        "\n",
        "headers = {'User-Agent': 'Mozilla/5.0 (Macintosh; Intel Mac OS X 10_10_1) AppleWebKit/537.36 (KHTML, like Gecko) Chrome/39.0.2171.95 Safari/537.36'}\n",
        "\n",
        "MAX_THREADS = 5\n",
        "\n",
        "\n",
        "\n",
        "def extract_movie_details(movie_link):\n",
        "    time.sleep(random.uniform(0, 0.2))\n",
        "    response = BeautifulSoup(requests.get(movie_link, headers=headers).content, 'html.parser')\n",
        "    movie_soup = response\n",
        "\n",
        "    if movie_soup is not None:\n",
        "      title = None\n",
        "      date = None\n",
        "\n",
        "      movie_data = movie_soup.find('div', attrs={'class': 'title_wrapper'})\n",
        "      if movie_data is not None:\n",
        "        title = movie_data.find('h1').get_text()\n",
        "        date = movie_data.find('a', attrs={'title': 'See more release dates'}).get_text().strip()\n",
        "\n",
        "      rating = movie_soup.find('span', attrs={'itemprop': 'ratingValue'}).get_text() if movie_soup.find(\n",
        "          'span', attrs={'itemprop': 'ratingValue'}) else None\n",
        "\n",
        "      plot_text = movie_soup.find('div', attrs={'class': 'summary_text'}).get_text().strip() if movie_soup.find(\n",
        "          'div', attrs={'class': 'summary_text'}) else None \n",
        "\n",
        "      with open('movies.csv', mode='a+') as file:\n",
        "        movie_writer = csv.writer(file, delimiter=',', quotechar= '\"', quoting=csv.QUOTE_MINIMAL)\n",
        "        if all([title, date, rating, plot_text]):\n",
        "          print(title, date, rating, plot_text)\n",
        "          movie_writer.writerow([title, date, rating, plot_text])\n",
        "\n",
        "\n",
        "def extract_movies(soup):\n",
        "    movies_table = soup.find('table', attrs={'data-caller-name': 'chart-moviemeter'}).find('tbody')\n",
        "    movies_table_rows = movies_table.find_all('tr')\n",
        "    movie_links = ['https://imdb.com' + movie.find('a')['href'] for movie in movies_table_rows]\n",
        "\n",
        "    threads = min(MAX_THREADS, len(movie_links))\n",
        "    with concurrent.futures.ThreadPoolExecutor(max_workers=threads) as executor:\n",
        "      executor.map(extract_movie_details, movie_links)\n",
        "    \n",
        "def main():\n",
        "  start_time = time.time()\n",
        "\n",
        "  popular_movies_url = 'https://www.imdb.com/chart/moviemeter/?ref_=nv_mv_mpm'\n",
        "  response = requests.get(popular_movies_url, headers=headers)\n",
        "  soup = BeautifulSoup(response.content, 'html.parser')\n",
        "\n",
        "  extract_movies(soup)\n",
        "\n",
        "  end_time = time.time()\n",
        "  print('Total time taken: ', end_time - start_time)\n",
        "\n",
        "\n",
        "if __name__ == '__main__':\n",
        "    main()"
      ],
      "metadata": {
        "id": "OirwezdHsfQV",
        "colab": {
          "base_uri": "https://localhost:8080/"
        },
        "outputId": "a4c689be-8eb6-4904-edc5-5fa4e6993a5c"
      },
      "execution_count": 6,
      "outputs": [
        {
          "output_type": "stream",
          "name": "stdout",
          "text": [
            "Total time taken:  29.89416003227234\n"
          ]
        }
      ]
    }
  ]
}